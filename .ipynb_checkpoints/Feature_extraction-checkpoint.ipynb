{
 "cells": [
  {
   "cell_type": "code",
   "execution_count": 4,
   "id": "43a39d74",
   "metadata": {},
   "outputs": [],
   "source": [
    "from urllib.parse import urlparse"
   ]
  },
  {
   "cell_type": "code",
   "execution_count": 18,
   "id": "3479f562",
   "metadata": {},
   "outputs": [
    {
     "name": "stdout",
     "output_type": "stream",
     "text": [
      "localhost\n"
     ]
    }
   ],
   "source": [
    "class LexicalFeatures:\n",
    "    def __init__(self,url):\n",
    "        self.description = 'URL'\n",
    "        self.url = url\n",
    "        self.urlparse = urlparse(self.url)\n",
    "        self.host = self.urlparse.hostname\n",
    "\n",
    "l = LexicalFeatures('http://localhost:8888/notebooks/Untitled.ipynb?kernel_name=python3#hello');"
   ]
  }
 ],
 "metadata": {
  "kernelspec": {
   "display_name": "Python 3 (ipykernel)",
   "language": "python",
   "name": "python3"
  },
  "language_info": {
   "codemirror_mode": {
    "name": "ipython",
    "version": 3
   },
   "file_extension": ".py",
   "mimetype": "text/x-python",
   "name": "python",
   "nbconvert_exporter": "python",
   "pygments_lexer": "ipython3",
   "version": "3.10.0"
  }
 },
 "nbformat": 4,
 "nbformat_minor": 5
}
